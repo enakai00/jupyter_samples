{
 "cells": [
  {
   "cell_type": "code",
   "execution_count": null,
   "metadata": {
    "collapsed": false
   },
   "outputs": [],
   "source": [
    "%matplotlib inline\n",
    "\n",
    "from __future__ import absolute_import\n",
    "from __future__ import division\n",
    "from __future__ import print_function\n",
    "\n",
    "import tensorflow as tf\n",
    "import numpy as np\n",
    "import matplotlib.pyplot as plt\n",
    "import math\n",
    "import pickle"
   ]
  },
  {
   "cell_type": "code",
   "execution_count": null,
   "metadata": {
    "collapsed": false
   },
   "outputs": [],
   "source": [
    "class Environ:\n",
    "    def __init__(self, theta, dtheta):\n",
    "        self.reset(theta, dtheta)\n",
    "        \n",
    "    def reset(self, theta, dtheta):\n",
    "        self.th = theta\n",
    "        self.dth = dtheta\n",
    "        self.g = 0.01\n",
    "        self.seq = np.zeros(NUM_STATES)\n",
    "        \n",
    "    def get_reward(self):\n",
    "        h = -np.cos(self.th)\n",
    "        if h > 0:\n",
    "            return 5*h\n",
    "        else:\n",
    "            return h\n",
    "    \n",
    "    def update_state(self, action):\n",
    "        power = 0.005 * np.sign(action)\n",
    "        self.dth += -self.g*np.sin(self.th)+power\n",
    "        self.th += self.dth\n",
    "        self.seq[1:NUM_STATES] = self.seq[0:NUM_STATES-1]\n",
    "        self.seq[0] = self.th"
   ]
  },
  {
   "cell_type": "code",
   "execution_count": null,
   "metadata": {
    "collapsed": true
   },
   "outputs": [],
   "source": [
    "class Qnet(object): # super class\n",
    "    def __init__(self):\n",
    "        pass\n",
    "    \n",
    "    def get_action_values(self, seq):\n",
    "        action_values = self.q.eval(session=self.sess, feed_dict={self.x:[seq]})\n",
    "        return action_values[0] \n",
    "    \n",
    "    def update_model(self, experience_memory):\n",
    "        gamma = 0.9\n",
    "        if len(experience_memory) < BATCH_NUM:\n",
    "            return\n",
    "        batch_index = list(np.random.randint(0, len(experience_memory), BATCH_NUM))\n",
    "        batch = np.array([experience_memory[i] for i in batch_index])\n",
    "        xs = batch[:,0:NUM_STATES]\n",
    "        targets = self.q.eval(session=self.sess, feed_dict={self.x:xs})\n",
    "        for i, experience in enumerate(batch):\n",
    "            seq = experience[0:NUM_STATES]\n",
    "            action = experience[NUM_STATES:NUM_STATES+1]\n",
    "            reward = experience[NUM_STATES+1:NUM_STATES+2]\n",
    "            new_seq = experience[NUM_STATES+2:]\n",
    "            for action_index in range(len(Actions)):\n",
    "                if Actions[action_index] == action:\n",
    "                    break\n",
    "            targets[action_index] = reward + gamma * np.max(self.get_action_values(new_seq))\n",
    "\n",
    "        self.sess.run(self.train_step, feed_dict={self.x:xs, self.y_:targets})\n",
    "        return self.loss.eval(session = self.sess, feed_dict={self.x:xs, self.y_:targets})"
   ]
  },
  {
   "cell_type": "code",
   "execution_count": null,
   "metadata": {
    "collapsed": false
   },
   "outputs": [],
   "source": [
    "class Agent:\n",
    "    def __init__(self):\n",
    "        self.epsilon = 0.7\n",
    "        self.episode_memory = [[] for _ in range(TOP)]\n",
    "        self.best_episodes = [-1000]*TOP\n",
    "\n",
    "    def get_action(self, qnet, seq, train=True):\n",
    "        if train and np.random.random() < self.epsilon:\n",
    "            action = np.random.choice(Actions)\n",
    "        else:\n",
    "            action_values = qnet.get_action_values(seq)\n",
    "            action_index = np.argmax(action_values)\n",
    "            action = Actions[action_index]\n",
    "        return action\n",
    "        \n",
    "    def get_memory(self):\n",
    "        result = []\n",
    "        for e in self.episode_memory:\n",
    "            result.extend(e)\n",
    "        return result"
   ]
  },
  {
   "cell_type": "code",
   "execution_count": null,
   "metadata": {
    "collapsed": false
   },
   "outputs": [],
   "source": [
    "def run(qnet, agent, train=True):\n",
    "    log = []\n",
    "    env = Environ(0,0) \n",
    "    total_reward = 0\n",
    "    episode_record = []\n",
    "\n",
    "    # Run single episode to record experience\n",
    "    for i in range(300):\n",
    "        old_seq = env.seq.copy()\n",
    "        action = agent.get_action(qnet, old_seq, train)\n",
    "        env.update_state(action)\n",
    "        reward = env.get_reward()\n",
    "        total_reward += reward\n",
    "        new_seq = env.seq.copy()\n",
    "        episode_record.append(np.hstack([old_seq, action, reward, new_seq]))\n",
    "        log.append([env.th, action])\n",
    "\n",
    "    if np.min(agent.best_episodes) < total_reward or np.random.random() < 0.05:\n",
    "        agent.best_episodes = agent.best_episodes[1:]\n",
    "        agent.best_episodes.append(total_reward)\n",
    "        agent.episode_memory = agent.episode_memory[1:]\n",
    "        agent.episode_memory.append(episode_record)\n",
    "    if train:\n",
    "        loss = qnet.update_model(agent.get_memory())\n",
    "    else:\n",
    "        loss = 0\n",
    "        \n",
    "    return qnet, total_reward, log, loss"
   ]
  },
  {
   "cell_type": "code",
   "execution_count": null,
   "metadata": {
    "collapsed": false
   },
   "outputs": [],
   "source": [
    "class Perceptron(Qnet):\n",
    "    def __init__(self):\n",
    "        with tf.name_scope('input'):\n",
    "            self.x = tf.placeholder(tf.float32, [None, NUM_STATES])\n",
    "\n",
    "        with tf.name_scope('output'):\n",
    "            self.w = tf.Variable(\n",
    "                tf.truncated_normal([NUM_STATES, len(Actions)], stddev=1.0/math.sqrt(2.0)),\n",
    "                name='weights')\n",
    "            self.b = tf.Variable(tf.zeros([len(Actions)]), name='biases')\n",
    "            self.q = tf.matmul(self.x, self.w) + self.b\n",
    "        \n",
    "        with tf.name_scope('optimizer'):\n",
    "            self.y_ = tf.placeholder(tf.float32, [None, len(Actions)])\n",
    "            self.loss = tf.reduce_mean(tf.square(self.y_ - self.q))\n",
    "            self.train_step = tf.train.AdamOptimizer().minimize(self.loss)\n",
    "\n",
    "        self.sess = tf.Session()\n",
    "        self.sess.run(tf.initialize_all_variables())"
   ]
  },
  {
   "cell_type": "code",
   "execution_count": null,
   "metadata": {
    "collapsed": true
   },
   "outputs": [],
   "source": [
    "class SingleNet(Qnet):\n",
    "    def __init__(self):\n",
    "        with tf.name_scope('input'):\n",
    "            self.x = tf.placeholder(tf.float32, [None, NUM_STATES])\n",
    "\n",
    "        with tf.name_scope('hidden1'):\n",
    "            self.w1 = tf.Variable(\n",
    "                tf.truncated_normal([NUM_STATES, H1_UNITS], stddev=1.0/math.sqrt(2.0)),\n",
    "                name='weights')\n",
    "            self.b1 = tf.Variable(tf.zeros([1, H1_UNITS]), name='biases')\n",
    "            self.hidden1 = tf.nn.relu(tf.matmul(self.x, self.w1) + self.b1)\n",
    "\n",
    "        with tf.name_scope('output'):\n",
    "            self.w = tf.Variable(\n",
    "                tf.truncated_normal([H1_UNITS, len(Actions)], stddev=1.0/math.sqrt(2.0)),\n",
    "                name='weights')\n",
    "            self.b = tf.Variable(tf.zeros([len(Actions)]), name='biases')\n",
    "            self.q = tf.matmul(self.hidden1, self.w) + self.b\n",
    "        \n",
    "        with tf.name_scope('optimizer'):\n",
    "            self.y_ = tf.placeholder(tf.float32, [None, len(Actions)])\n",
    "            self.loss = tf.reduce_mean(tf.square(self.y_ - self.q))\n",
    "            self.train_step = tf.train.AdamOptimizer().minimize(self.loss)\n",
    "\n",
    "        self.sess = tf.Session()\n",
    "        self.sess.run(tf.initialize_all_variables())"
   ]
  },
  {
   "cell_type": "code",
   "execution_count": null,
   "metadata": {
    "collapsed": false
   },
   "outputs": [],
   "source": [
    "class DoubleNet(Qnet):\n",
    "    def __init__(self):\n",
    "        with tf.name_scope('input'):\n",
    "            self.x = tf.placeholder(tf.float32, [None, NUM_STATES])\n",
    "\n",
    "        with tf.name_scope('hidden1'):\n",
    "            self.w1 = tf.Variable(\n",
    "                tf.truncated_normal([NUM_STATES, H1_UNITS], stddev=1.0/math.sqrt(2.0)),\n",
    "                name='weights')\n",
    "            self.b1 = tf.Variable(tf.zeros([1, H1_UNITS]), name='biases')\n",
    "            self.hidden1 = tf.nn.relu(tf.matmul(self.x, self.w1) + self.b1)\n",
    "\n",
    "        with tf.name_scope('hidden2'):\n",
    "            self.w2 = tf.Variable(\n",
    "                tf.truncated_normal([H1_UNITS, H2_UNITS], stddev=1.0/math.sqrt(2.0)),\n",
    "                name='weights')\n",
    "            self.b2 = tf.Variable(tf.zeros([1, H2_UNITS]), name='biases')\n",
    "            self.hidden2 = tf.nn.relu(tf.matmul(self.hidden1, self.w2) + self.b2)\n",
    "            \n",
    "        with tf.name_scope('output'):\n",
    "            self.w = tf.Variable(\n",
    "                tf.truncated_normal([H2_UNITS, len(Actions)], stddev=1.0/math.sqrt(2.0)),\n",
    "                name='weights')\n",
    "            self.b = tf.Variable(tf.zeros([len(Actions)]), name='biases')\n",
    "            self.q = tf.matmul(self.hidden2, self.w) + self.b\n",
    "        \n",
    "        with tf.name_scope('optimizer'):\n",
    "            self.y_ = tf.placeholder(tf.float32, [None, len(Actions)])\n",
    "            self.loss = tf.reduce_mean(tf.square(self.y_ - self.q))\n",
    "            self.train_step = tf.train.AdamOptimizer().minimize(self.loss)\n",
    "\n",
    "        self.sess = tf.Session()\n",
    "        self.sess.run(tf.initialize_all_variables())"
   ]
  },
  {
   "cell_type": "markdown",
   "metadata": {},
   "source": [
    "## Perceptron"
   ]
  },
  {
   "cell_type": "code",
   "execution_count": null,
   "metadata": {
    "collapsed": false,
    "scrolled": false
   },
   "outputs": [],
   "source": [
    "NUM_STATES = 4    # Use 4 previous positions as a status\n",
    "TOP = 1000        # Remember top 1000 episodes\n",
    "BATCH_NUM = 500   # Use 500 samples for a single update\n",
    "Actions = [-1, 1] # Possible actions\n",
    "N = 50000         # Run 50000 iterations\n",
    "\n",
    "qnet = Perceptron()\n",
    "agent = Agent()\n",
    "\n",
    "best = -1000\n",
    "saver = tf.train.Saver()\n",
    "for i in range(N):\n",
    "    qnet, total_reward, log, loss = run(qnet, agent, train=True)\n",
    "    if (i+1) % 10 == 0:\n",
    "        qnet, total_reward, log, _ = run(qnet, agent, train=False)\n",
    "        if total_reward > best:\n",
    "            best = total_reward\n",
    "            with open('log_for_l0_%04d' % int(best), mode='wb') as f:\n",
    "                pickle.dump(log, f)\n",
    "            saver.save(qnet.sess, 'train_data_l0', global_step=i)\n",
    "        print (i+1, best, total_reward, loss)"
   ]
  },
  {
   "cell_type": "markdown",
   "metadata": {},
   "source": [
    "## Single layer"
   ]
  },
  {
   "cell_type": "code",
   "execution_count": null,
   "metadata": {
    "collapsed": false
   },
   "outputs": [],
   "source": [
    "NUM_STATES = 4    # Use 4 previous positions as a status\n",
    "H1_UNITS = 1024   # Use 1024 hidden units\n",
    "TOP = 1000        # Remember top 1000 episodes\n",
    "BATCH_NUM = 500   # Use 500 samples for a single update\n",
    "Actions = [-1, 1] # Possible actions\n",
    "N = 50000         # Run 50000 iterations\n",
    "\n",
    "qnet = SingleNet()\n",
    "agent = Agent()\n",
    "\n",
    "best = -1000\n",
    "saver = tf.train.Saver()\n",
    "for i in range(N):\n",
    "    qnet, total_reward, log, loss = run(qnet, agent, train=True)\n",
    "    if (i+1) % 10 == 0:\n",
    "        qnet, total_reward, log, _ = run(qnet, agent, train=False)\n",
    "        if total_reward > best:\n",
    "            best = total_reward\n",
    "            with open('log_for_l1_%04d' % int(best), mode='wb') as f:\n",
    "                pickle.dump(log, f)\n",
    "            saver.save(qnet.sess, 'train_data_l1', global_step=i)\n",
    "        print (i+1, best, total_reward, loss)"
   ]
  },
  {
   "cell_type": "markdown",
   "metadata": {},
   "source": [
    "## Double layer"
   ]
  },
  {
   "cell_type": "code",
   "execution_count": null,
   "metadata": {
    "collapsed": false
   },
   "outputs": [],
   "source": [
    "NUM_STATES = 4    # Use 4 previous positions as a status\n",
    "H1_UNITS = 512    # Use 512 first hidden units\n",
    "H2_UNITS = 1024   # Use 1024 second hidden units\n",
    "TOP = 1000        # Remember top 1000 episodes\n",
    "BATCH_NUM = 500   # Use 500 samples for a single update\n",
    "Actions = [-1, 1] # Possible actions\n",
    "N = 50000         # Run 50000 iterations\n",
    "\n",
    "qnet = DoubleNet()\n",
    "agent = Agent()\n",
    "\n",
    "best = -1000\n",
    "saver = tf.train.Saver()\n",
    "for i in range(N):\n",
    "    qnet, total_reward, log, loss = run(qnet, agent, train=True)\n",
    "    if (i+1) % 10 == 0:\n",
    "        qnet, total_reward, log, _ = run(qnet, agent, train=False)\n",
    "        if total_reward > best:\n",
    "            best = total_reward\n",
    "            with open('log_for_l2_%04d' % int(best), mode='wb') as f:\n",
    "                pickle.dump(log, f)\n",
    "            saver.save(qnet.sess, 'train_data_l2', global_step=i)\n",
    "        print (i+1, best, total_reward, loss)"
   ]
  }
 ],
 "metadata": {
  "kernelspec": {
   "display_name": "Python 2",
   "language": "python",
   "name": "python2"
  },
  "language_info": {
   "codemirror_mode": {
    "name": "ipython",
    "version": 2
   },
   "file_extension": ".py",
   "mimetype": "text/x-python",
   "name": "python",
   "nbconvert_exporter": "python",
   "pygments_lexer": "ipython2",
   "version": "2.7.5"
  }
 },
 "nbformat": 4,
 "nbformat_minor": 0
}
