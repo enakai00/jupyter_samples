{
 "cells": [
  {
   "cell_type": "markdown",
   "metadata": {},
   "source": [
    "## What is this?"
   ]
  },
  {
   "cell_type": "markdown",
   "metadata": {},
   "source": [
    "This is a very simple prototype of a new openstack client running on Jupyter. The return values are in dataframe of pandas so that you can visualize them easily.\n",
    "\n",
    "I want to demonstrate that Jupyter can be a new server operation platform which provides the underlying power of data management and visualization tools. "
   ]
  },
  {
   "cell_type": "markdown",
   "metadata": {},
   "source": [
    "## Preparation"
   ]
  },
  {
   "cell_type": "markdown",
   "metadata": {},
   "source": [
    "Create a config file for shade."
   ]
  },
  {
   "cell_type": "code",
   "execution_count": 1,
   "metadata": {
    "collapsed": true
   },
   "outputs": [],
   "source": [
    "%%bash\n",
    "mkdir -p $HOME/.config/openstack/\n",
    "cat <<EOF >$HOME/.config/openstack/clouds.yml\n",
    "clouds:\n",
    "    myopenstack:\n",
    "        auth:\n",
    "            auth_url: http://192.168.1.9:5000/\n",
    "            username: demo_user\n",
    "            password: passw0rd\n",
    "            project_name: demo\n",
    "        region_name: RegionOne\n",
    "EOF"
   ]
  },
  {
   "cell_type": "markdown",
   "metadata": {},
   "source": [
    "Import some modules and get a connection to the openstack controller."
   ]
  },
  {
   "cell_type": "code",
   "execution_count": 2,
   "metadata": {
    "collapsed": false
   },
   "outputs": [],
   "source": [
    "%matplotlib inline\n",
    "import matplotlib.pyplot as plt\n",
    "import pandas as pd\n",
    "from pandas import DataFrame, Series\n",
    "from pandas.io.json import json_normalize\n",
    "from shade import *\n",
    "conn = openstack_cloud(cloud='myopenstack')"
   ]
  },
  {
   "cell_type": "markdown",
   "metadata": {},
   "source": [
    "## Tabular output example"
   ]
  },
  {
   "cell_type": "markdown",
   "metadata": {},
   "source": [
    "Define functions to retrieve list of images and instances as a simple example."
   ]
  },
  {
   "cell_type": "code",
   "execution_count": 3,
   "metadata": {
    "collapsed": false
   },
   "outputs": [],
   "source": [
    "def list_images(columns=None):\n",
    "    images = conn.list_images()\n",
    "    df = DataFrame(images)\n",
    "    if columns == None:\n",
    "        return df\n",
    "    else:\n",
    "        index = [key for key in columns if key in df.keys()]\n",
    "        return df[index]"
   ]
  },
  {
   "cell_type": "code",
   "execution_count": 4,
   "metadata": {
    "collapsed": false
   },
   "outputs": [],
   "source": [
    "def list_servers(columns=None):\n",
    "    instances = conn.list_servers()\n",
    "    instances_normalized = []\n",
    "    for instance in instances:\n",
    "        if 'security_groups' in instance:\n",
    "            instance['security_groups'] = [sg['name'] for sg in instance['security_groups']]\n",
    "        instances_normalized.append(instance)\n",
    "    df = json_normalize(instances_normalized)\n",
    "    df = df.rename(columns =\n",
    "                   {'OS-EXT-STS:vm_state':'vm_state',\n",
    "                    'OS-EXT-STS:power_state':'power_state'})\n",
    "    if columns == None:\n",
    "        return df\n",
    "    else:\n",
    "        columns_normalized = []\n",
    "        for key in columns:\n",
    "            if key == 'networks':\n",
    "                for real_key in df.keys():\n",
    "                    if real_key.startswith('networks'):\n",
    "                        columns_normalized.append(real_key)\n",
    "                continue\n",
    "            columns_normalized.append(key)\n",
    "        index = [key for key in columns_normalized if key in df.keys()]\n",
    "        return df[index]"
   ]
  },
  {
   "cell_type": "markdown",
   "metadata": {},
   "source": [
    "Call the functions. The results are automatically visualized since they are in pandas dataframe."
   ]
  },
  {
   "cell_type": "code",
   "execution_count": 5,
   "metadata": {
    "collapsed": false
   },
   "outputs": [
    {
     "data": {
      "text/html": [
       "<div>\n",
       "<table border=\"1\" class=\"dataframe\">\n",
       "  <thead>\n",
       "    <tr style=\"text-align: right;\">\n",
       "      <th></th>\n",
       "      <th>id</th>\n",
       "      <th>name</th>\n",
       "      <th>status</th>\n",
       "      <th>visibility</th>\n",
       "    </tr>\n",
       "  </thead>\n",
       "  <tbody>\n",
       "    <tr>\n",
       "      <th>0</th>\n",
       "      <td>2a11be12-ea17-41e2-994c-7ebaa296e520</td>\n",
       "      <td>Docker01</td>\n",
       "      <td>active</td>\n",
       "      <td>private</td>\n",
       "    </tr>\n",
       "    <tr>\n",
       "      <th>1</th>\n",
       "      <td>7a13d254-d20f-4e44-9353-3f675c960828</td>\n",
       "      <td>cirros</td>\n",
       "      <td>active</td>\n",
       "      <td>private</td>\n",
       "    </tr>\n",
       "    <tr>\n",
       "      <th>2</th>\n",
       "      <td>c9c5790c-361c-4c03-acb9-1bf14a0e9b3d</td>\n",
       "      <td>Docker01-bak</td>\n",
       "      <td>active</td>\n",
       "      <td>private</td>\n",
       "    </tr>\n",
       "    <tr>\n",
       "      <th>3</th>\n",
       "      <td>6cd5ada9-3c41-4d66-9edd-9d0df8093b80</td>\n",
       "      <td>CentOS7</td>\n",
       "      <td>active</td>\n",
       "      <td>public</td>\n",
       "    </tr>\n",
       "  </tbody>\n",
       "</table>\n",
       "</div>"
      ],
      "text/plain": [
       "                                     id          name  status visibility\n",
       "0  2a11be12-ea17-41e2-994c-7ebaa296e520      Docker01  active    private\n",
       "1  7a13d254-d20f-4e44-9353-3f675c960828        cirros  active    private\n",
       "2  c9c5790c-361c-4c03-acb9-1bf14a0e9b3d  Docker01-bak  active    private\n",
       "3  6cd5ada9-3c41-4d66-9edd-9d0df8093b80       CentOS7  active     public"
      ]
     },
     "execution_count": 5,
     "metadata": {},
     "output_type": "execute_result"
    }
   ],
   "source": [
    "list_images(['id','name','status','visibility'])"
   ]
  },
  {
   "cell_type": "code",
   "execution_count": 6,
   "metadata": {
    "collapsed": false
   },
   "outputs": [
    {
     "data": {
      "text/html": [
       "<div>\n",
       "<table border=\"1\" class=\"dataframe\">\n",
       "  <thead>\n",
       "    <tr style=\"text-align: right;\">\n",
       "      <th></th>\n",
       "      <th>name</th>\n",
       "      <th>vm_state</th>\n",
       "      <th>power_state</th>\n",
       "      <th>security_groups</th>\n",
       "      <th>networks.private01</th>\n",
       "    </tr>\n",
       "  </thead>\n",
       "  <tbody>\n",
       "    <tr>\n",
       "      <th>0</th>\n",
       "      <td>largeVM</td>\n",
       "      <td>error</td>\n",
       "      <td>0</td>\n",
       "      <td>NaN</td>\n",
       "      <td>NaN</td>\n",
       "    </tr>\n",
       "    <tr>\n",
       "      <th>1</th>\n",
       "      <td>eplite</td>\n",
       "      <td>active</td>\n",
       "      <td>1</td>\n",
       "      <td>[eplite]</td>\n",
       "      <td>[192.168.101.41, 192.168.1.101]</td>\n",
       "    </tr>\n",
       "    <tr>\n",
       "      <th>2</th>\n",
       "      <td>epmysql</td>\n",
       "      <td>active</td>\n",
       "      <td>1</td>\n",
       "      <td>[eplite]</td>\n",
       "      <td>[192.168.101.40, 192.168.1.105]</td>\n",
       "    </tr>\n",
       "    <tr>\n",
       "      <th>3</th>\n",
       "      <td>step-server</td>\n",
       "      <td>active</td>\n",
       "      <td>1</td>\n",
       "      <td>[default, web-server]</td>\n",
       "      <td>[192.168.101.7, 192.168.1.102]</td>\n",
       "    </tr>\n",
       "  </tbody>\n",
       "</table>\n",
       "</div>"
      ],
      "text/plain": [
       "          name vm_state  power_state        security_groups  \\\n",
       "0      largeVM    error            0                    NaN   \n",
       "1       eplite   active            1               [eplite]   \n",
       "2      epmysql   active            1               [eplite]   \n",
       "3  step-server   active            1  [default, web-server]   \n",
       "\n",
       "                networks.private01  \n",
       "0                              NaN  \n",
       "1  [192.168.101.41, 192.168.1.101]  \n",
       "2  [192.168.101.40, 192.168.1.105]  \n",
       "3   [192.168.101.7, 192.168.1.102]  "
      ]
     },
     "execution_count": 6,
     "metadata": {},
     "output_type": "execute_result"
    }
   ],
   "source": [
    "list_servers(['name','vm_state','power_state','security_groups', 'networks'])"
   ]
  },
  {
   "cell_type": "markdown",
   "metadata": {},
   "source": [
    "## Graph output example"
   ]
  },
  {
   "cell_type": "markdown",
   "metadata": {},
   "source": [
    "Define a function to retrieve instance sizes."
   ]
  },
  {
   "cell_type": "code",
   "execution_count": 7,
   "metadata": {
    "collapsed": false
   },
   "outputs": [],
   "source": [
    "def show_vmsizes():\n",
    "    instances = conn.list_servers()\n",
    "    df = DataFrame()\n",
    "    for instance in instances:\n",
    "        flavor_id = instance['flavor']['id']\n",
    "        flavor = conn.get_flavor(flavor_id)\n",
    "        df = df.append(Series({\n",
    "                 \"name\": instance['name'],\n",
    "                 \"vcpus\": flavor['vcpus'],\n",
    "                 \"ram\": flavor['ram'],\n",
    "                 \"disk\": flavor['disk']\n",
    "                }), ignore_index=True)\n",
    "    df = df.set_index('name')\n",
    "    return df"
   ]
  },
  {
   "cell_type": "markdown",
   "metadata": {},
   "source": [
    "Calls the function and store the result in a variable. Again, the result is in pandas dataframe."
   ]
  },
  {
   "cell_type": "code",
   "execution_count": 8,
   "metadata": {
    "collapsed": false
   },
   "outputs": [
    {
     "data": {
      "text/html": [
       "<div>\n",
       "<table border=\"1\" class=\"dataframe\">\n",
       "  <thead>\n",
       "    <tr style=\"text-align: right;\">\n",
       "      <th></th>\n",
       "      <th>disk</th>\n",
       "      <th>ram</th>\n",
       "      <th>vcpus</th>\n",
       "    </tr>\n",
       "    <tr>\n",
       "      <th>name</th>\n",
       "      <th></th>\n",
       "      <th></th>\n",
       "      <th></th>\n",
       "    </tr>\n",
       "  </thead>\n",
       "  <tbody>\n",
       "    <tr>\n",
       "      <th>largeVM</th>\n",
       "      <td>40.0</td>\n",
       "      <td>4096.0</td>\n",
       "      <td>2.0</td>\n",
       "    </tr>\n",
       "    <tr>\n",
       "      <th>eplite</th>\n",
       "      <td>20.0</td>\n",
       "      <td>2048.0</td>\n",
       "      <td>1.0</td>\n",
       "    </tr>\n",
       "    <tr>\n",
       "      <th>epmysql</th>\n",
       "      <td>20.0</td>\n",
       "      <td>2048.0</td>\n",
       "      <td>1.0</td>\n",
       "    </tr>\n",
       "    <tr>\n",
       "      <th>step-server</th>\n",
       "      <td>20.0</td>\n",
       "      <td>1024.0</td>\n",
       "      <td>1.0</td>\n",
       "    </tr>\n",
       "  </tbody>\n",
       "</table>\n",
       "</div>"
      ],
      "text/plain": [
       "             disk     ram  vcpus\n",
       "name                            \n",
       "largeVM      40.0  4096.0    2.0\n",
       "eplite       20.0  2048.0    1.0\n",
       "epmysql      20.0  2048.0    1.0\n",
       "step-server  20.0  1024.0    1.0"
      ]
     },
     "execution_count": 8,
     "metadata": {},
     "output_type": "execute_result"
    }
   ],
   "source": [
    "df = show_vmsizes()\n",
    "df"
   ]
  },
  {
   "cell_type": "markdown",
   "metadata": {},
   "source": [
    "Using matplotlib, you can easily visualize the result."
   ]
  },
  {
   "cell_type": "code",
   "execution_count": 9,
   "metadata": {
    "collapsed": false
   },
   "outputs": [
    {
     "data": {
      "text/plain": [
       "<matplotlib.axes._subplots.AxesSubplot at 0x4dc51d0>"
      ]
     },
     "execution_count": 9,
     "metadata": {},
     "output_type": "execute_result"
    },
    {
     "data": {
      "image/png": "[encoded data removed]",
      "text/plain": [
       "<matplotlib.figure.Figure at 0x4dc1c10>"
      ]
     },
     "metadata": {},
     "output_type": "display_data"
    }
   ],
   "source": [
    "fig = plt.figure(figsize=(10,4))\n",
    "subplot1 = fig.add_subplot(1,2,1)\n",
    "subplot2 = fig.add_subplot(1,2,2)\n",
    "df['ram'].plot(kind='bar',title='ram', ax=subplot1)\n",
    "df['vcpus'].plot(kind='bar', title='vcpus', ax=subplot2)"
   ]
  }
 ],
 "metadata": {
  "kernelspec": {
   "display_name": "Python 2",
   "language": "python",
   "name": "python2"
  },
  "language_info": {
   "codemirror_mode": {
    "name": "ipython",
    "version": 2
   },
   "file_extension": ".py",
   "mimetype": "text/x-python",
   "name": "python",
   "nbconvert_exporter": "python",
   "pygments_lexer": "ipython2",
   "version": "2.7.5"
  }
 },
 "nbformat": 4,
 "nbformat_minor": 0
}
